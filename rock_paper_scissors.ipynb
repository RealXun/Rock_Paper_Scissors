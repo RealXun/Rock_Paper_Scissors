{
 "cells": [
  {
   "cell_type": "markdown",
   "metadata": {},
   "source": [
    "# Rock, Paper, Scissors\n",
    "Rock paper scissors is a hand game originating from China, usually played between two people, in which each player simultaneously forms one of three shapes with an outstretched hand.\n",
    "\n",
    "Let's play the famous game against our computer.\n",
    "\n",
    "https://es.wikipedia.org/wiki/Piedra,_papel_o_tijera\n",
    "\n",
    "> Use of functions is recommended."
   ]
  },
  {
   "cell_type": "markdown",
   "metadata": {},
   "source": [
    "### Winning Rules of the Rock paper scissor game as follows:\n",
    "- Rock vs paper->paper wins\n",
    "- Rock vs scissor->Rock wins\n",
    "- paper vs scissor->scissor wins"
   ]
  },
  {
   "cell_type": "markdown",
   "metadata": {},
   "source": [
    "## Objectives\n",
    "1. Loop Usage\n",
    "2. Data capture by console\n",
    "3. Use if-elif-else\n",
    "4. Use of try-except\n",
    "5. Definition of functions. Modular programming.\n",
    "6. Logical operators.\n",
    "7. Print by console\n",
    "8. Import of external modules"
   ]
  },
  {
   "cell_type": "markdown",
   "metadata": {},
   "source": [
    "## Suggested way\n",
    "- Import the choice function from the random module\n",
    "- https://stackoverflow.com/questions/306400/how-to-randomly-select-an-item-from-a-list\n",
    "- Assign the 3 possible options to a list: 'rock', 'paper' or 'scissors'.\n",
    "- Assign a variable to the maximum number of games: 1, 3, 5, etc...\n",
    "- Assign a variable to the number of games a player must win to win.\n",
    "- Preferably the value will be based on the number of maximum games\n",
    "- Define a function that randomly returns one of the 3 options.\n",
    "- This will correspond to the play of the machine. Totally random.\n",
    "- Define a function that asks for your choice: 'rock', 'paper' or 'scissors' should only allow one of the 3 options. This is defensive programming. If it's not rock, paper, scissors, keep asking until it is.\n",
    "- Define a function that resolves a combat.\n",
    "- Returns 0 if there is a tie, 1 if the machine wins, 2 if the human player wins\n",
    "- Define a function that shows the choice of each player and the state of the game\n",
    "- This function must be used every time the accumulated points are updated\n",
    "- Create two variables that accumulate the games won by each participant\n",
    "- Create a loop that iterates as long as no player reaches the minimum number of wins needed to win. Inside the loop it resolves the machine's move and asks the player's. Compare them and update the value of the variables that accumulate the games won by each participant.\n",
    "- Announce by console the winner of the game based on who has the most accumulated victories"
   ]
  },
  {
   "cell_type": "code",
   "execution_count": 3,
   "metadata": {},
   "outputs": [],
   "source": [
    "#Defne conditions to use later.\n",
    "# Number is odd\n",
    "# Number is equal or greater than 3\n",
    "\n",
    "def is_odd(first_input):\n",
    "    if first_input % 2 != 0:\n",
    "        return True\n",
    "    else:\n",
    "        False\n",
    "        \n",
    "def is_more_or_equal_1(first_input):\n",
    "    if first_input >= 1:\n",
    "        return True\n",
    "    else:\n",
    "        return False\n",
    "\n",
    "#We start and infinite while\n",
    "while 1:\n",
    "    first_input = int(input(\"Maximum number of games?:\")) #The maximun numbers of rounds we are gonna play should be decided\n",
    "    if is_odd(first_input) and is_more_or_equal_1(first_input): # Here we tell it umber is odd and Number is equal or greater than 3, correct, lets play\n",
    "        print(\"Input taken successfully.\",\"Number is odd and equal or greater than one.\",\"The game starts now:\")\n",
    "        max_rounds = first_input # we rename the firs input to max_rounds\n",
    "        played = 0 #number of played games\n",
    "        machine_win = 0 #number of rounds the machine wins\n",
    "        users_win = 0 #number of rounds the user wins\n",
    "        to_win = int((max_rounds/2)+0.5) #Calculate the number of wins to win, if max_rounds is 5, if player/machine gets 3 winning rounds before the last round, player/machine wins\n",
    "        games_left  =max_rounds-1 #How many rounds left\n",
    "        while played < max_rounds:\n",
    "            import sys #this will be used to end a loop when reached the max_rounds that were wanted to be played\n",
    "            import random\n",
    "            # Computer chooses randomly any number\n",
    "            # among 1 , 2 and 3. Using randint method of random module\n",
    "            random = random.randint(0, 3) #randomly returns one of the 3 options for the machines\n",
    "            print(\"1)rock\",\"\\n2)paper\",\"\\n3)scissors\")\n",
    "            if random == 0:\n",
    "                machine = \"rock\"\n",
    "            elif random == 1:\n",
    "                machine = \"paper\"\n",
    "            elif random == 2:\n",
    "                machine = \"scissors\"\n",
    "            option = int(input(\"What do you want to use?:\"))\n",
    "            while option > 3 or option==0: #When player choose an option it should be 1, 2 or 3, if not it gives a message to pick again\n",
    "                print(\"Incorrect option.\")# pick again\n",
    "            # initialize value of user variable\n",
    "            # corresponding to the option value\n",
    "            if option == 1:\n",
    "                user = \"rock\"\n",
    "            elif option == 2:\n",
    "                user = \"paper\"\n",
    "            elif option == 3:\n",
    "                user = \"scissors\"\n",
    "            print(\"\\nYou choose: \", user)\n",
    "            print(\"The machine has chosen: \", machine)\n",
    "            #The winning decision making. In the if it goes what the user can win. elif tie, else is what the user cannot win.\n",
    "            if (machine == \"rock\" and user == \"paper\") or (machine == \"paper\" and user == \"scissors\") or (machine == \"scissors\" and user == \"rock\"):\n",
    "                users_win+=1\n",
    "            elif machine == user:\n",
    "                print(\"\\nTIE!!!\")\n",
    "            else:\n",
    "                machine_win+=1   \n",
    "            print(\"\\nJust\",games_left,\"game left to play\",\"\\nPlayer won\",users_win ,\"games\",\"\\nThe machine won\",machine_win ,\"games\\n\")               \n",
    "            played+=1\n",
    "            games_left-=1\n",
    "            if users_win==to_win or machine_win==to_win:\n",
    "                    break\n",
    "        if users_win<machine_win or machine_win==to_win:\n",
    "            print(\"The machine is the winner!!!! Machine did win \",machine_win ,\"games\")\n",
    "        elif users_win==to_win or machine_win<users_win:\n",
    "            print(\"User is the winner!!!! User did win \",users_win ,\"games\")           \n",
    "        else:\n",
    "            print(\"There are no winners, TIE!!!!\")\n",
    "        sys.exit() #I have put it so that the infinite loop ends when reaching the number of games that were wanted to be played\n",
    "    else:\n",
    "        if not is_odd(first_input) or is_more_or_equal_3(first_input): # Here we tell it number isnot odd and Number is not equal or greater than 1, so incorrect. Pick again\n",
    "            print(\"Failed! The number of games must be odd and equal or greater than or equal to 1\")\n",
    "            continue #with it we go back to pick a number of rounds"
   ]
  }
 ],
 "metadata": {
  "kernelspec": {
   "display_name": "Python 3.7.4 64-bit",
   "language": "python",
   "name": "python3"
  },
  "language_info": {
   "codemirror_mode": {
    "name": "ipython",
    "version": 3
   },
   "file_extension": ".py",
   "mimetype": "text/x-python",
   "name": "python",
   "nbconvert_exporter": "python",
   "pygments_lexer": "ipython3",
   "version": "3.7.4"
  },
  "vscode": {
   "interpreter": {
    "hash": "e447912bd1abc126f1a1b02664d51750c99209b93aa0b1eb72bb880925256d69"
   }
  }
 },
 "nbformat": 4,
 "nbformat_minor": 4
}
